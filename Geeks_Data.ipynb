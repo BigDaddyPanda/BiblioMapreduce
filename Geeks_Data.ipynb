{
  "nbformat": 4,
  "nbformat_minor": 0,
  "metadata": {
    "colab": {
      "name": "Geeks Data",
      "provenance": [],
      "collapsed_sections": [],
      "include_colab_link": true
    },
    "kernelspec": {
      "name": "python3",
      "display_name": "Python 3"
    }
  },
  "cells": [
    {
      "cell_type": "markdown",
      "metadata": {
        "id": "view-in-github",
        "colab_type": "text"
      },
      "source": [
        "<a href=\"https://colab.research.google.com/github/BigDaddyPanda/BiblioMapreduce/blob/master/Geeks_Data.ipynb\" target=\"_parent\"><img src=\"https://colab.research.google.com/assets/colab-badge.svg\" alt=\"Open In Colab\"/></a>"
      ]
    },
    {
      "cell_type": "markdown",
      "metadata": {
        "id": "Ww3MTkfJXo5_",
        "colab_type": "text"
      },
      "source": [
        "To deal with strings in similar use cases, \n",
        "it is best advised to use Regular Expression module\n",
        "the questions always ask for a certain pattern to be matched so let's easen things up"
      ]
    },
    {
      "cell_type": "code",
      "metadata": {
        "id": "qpjxG_q-Xtg6",
        "colab_type": "code",
        "colab": {}
      },
      "source": [
        "import re\n",
        "def answer_question(pattern):\n",
        "  user_input=input().lower()\n",
        "  reg_ex_match = re.match(pattern,user_input)\n",
        "  if reg_ex_match : \n",
        "    return (\"Matched\" , reg_ex_match.group())\n",
        "  else:\n",
        "    return (\"Nothing to match\", None)"
      ],
      "execution_count": 0,
      "outputs": []
    },
    {
      "cell_type": "markdown",
      "metadata": {
        "id": "Zg3DlLp1Re4x",
        "colab_type": "text"
      },
      "source": [
        "Write a Python program that matches a string that has an a followed by zero or more b's"
      ]
    },
    {
      "cell_type": "code",
      "metadata": {
        "id": "O92lpCezRITR",
        "colab_type": "code",
        "colab": {
          "base_uri": "https://localhost:8080/",
          "height": 52
        },
        "outputId": "a4d98eb5-179a-43f9-bf47-7a9527fb326b"
      },
      "source": [
        "answer_question(r\"(a(b*))\")"
      ],
      "execution_count": 15,
      "outputs": [
        {
          "output_type": "stream",
          "text": [
            "aaaaaaaaaaaa\n"
          ],
          "name": "stdout"
        },
        {
          "output_type": "execute_result",
          "data": {
            "text/plain": [
              "('Matched', 'a')"
            ]
          },
          "metadata": {
            "tags": []
          },
          "execution_count": 15
        }
      ]
    },
    {
      "cell_type": "markdown",
      "metadata": {
        "id": "A0abKlYsSlgo",
        "colab_type": "text"
      },
      "source": [
        "Write a Python program to find sequences of one upper case letter followed by lower\n",
        "case letters"
      ]
    },
    {
      "cell_type": "code",
      "metadata": {
        "id": "pyFAMAtfSnOC",
        "colab_type": "code",
        "colab": {
          "base_uri": "https://localhost:8080/",
          "height": 52
        },
        "outputId": "5cbec20f-c07b-4869-bcbc-77e4fefe8237"
      },
      "source": [
        "answer_question(r\"([A-Z]([a-z]+))\")"
      ],
      "execution_count": 16,
      "outputs": [
        {
          "output_type": "stream",
          "text": [
            "aaaaaaaaaa\n"
          ],
          "name": "stdout"
        },
        {
          "output_type": "execute_result",
          "data": {
            "text/plain": [
              "('Nothing to match', None)"
            ]
          },
          "metadata": {
            "tags": []
          },
          "execution_count": 16
        }
      ]
    },
    {
      "cell_type": "markdown",
      "metadata": {
        "id": "HThI52S-UbYi",
        "colab_type": "text"
      },
      "source": [
        "Write a Python program that matches a string that has an 'a' followed by anything,\n",
        "ending in 'b'"
      ]
    },
    {
      "cell_type": "code",
      "metadata": {
        "id": "I7eHEryHUapX",
        "colab_type": "code",
        "colab": {
          "base_uri": "https://localhost:8080/",
          "height": 52
        },
        "outputId": "3b5b14f1-75e9-437c-f11e-74f0b14c3499"
      },
      "source": [
        "answer_question(r\"(a.*b$)\")"
      ],
      "execution_count": 18,
      "outputs": [
        {
          "output_type": "stream",
          "text": [
            "aazeazeab\n"
          ],
          "name": "stdout"
        },
        {
          "output_type": "execute_result",
          "data": {
            "text/plain": [
              "('Matched', 'aazeazeab')"
            ]
          },
          "metadata": {
            "tags": []
          },
          "execution_count": 18
        }
      ]
    },
    {
      "cell_type": "markdown",
      "metadata": {
        "id": "flIKNgM3U-tJ",
        "colab_type": "text"
      },
      "source": [
        "Write a Python program that matches a word containing 'z', not start or end of the\n",
        "word"
      ]
    },
    {
      "cell_type": "code",
      "metadata": {
        "id": "Thyx7l64XZmc",
        "colab_type": "code",
        "colab": {
          "base_uri": "https://localhost:8080/",
          "height": 52
        },
        "outputId": "5e15d73f-ff28-42ab-fdfb-357ca824fbf0"
      },
      "source": [
        "answer_question(r\"\\b([^z](\\w+)[^z])\\b\")"
      ],
      "execution_count": 29,
      "outputs": [
        {
          "output_type": "stream",
          "text": [
            "aze\n"
          ],
          "name": "stdout"
        },
        {
          "output_type": "execute_result",
          "data": {
            "text/plain": [
              "('Matched', 'aze')"
            ]
          },
          "metadata": {
            "tags": []
          },
          "execution_count": 29
        }
      ]
    },
    {
      "cell_type": "markdown",
      "metadata": {
        "id": "3zgEO_ryhVTG",
        "colab_type": "text"
      },
      "source": [
        "Write a Python program to split a string with multiple delimiters"
      ]
    },
    {
      "cell_type": "code",
      "metadata": {
        "id": "AFjK06ELhWY7",
        "colab_type": "code",
        "colab": {}
      },
      "source": [
        "def multiple_splitter(string_to_split,*delims):\n",
        "  x=[string_to_split]\n",
        "  v=[]\n",
        "  for each in delims:\n",
        "    for i in x:\n",
        "      v.extend(i.split(each))\n",
        "    x=[*v]\n",
        "    v=[]\n",
        "  return x"
      ],
      "execution_count": 0,
      "outputs": []
    },
    {
      "cell_type": "markdown",
      "metadata": {
        "id": "FlaYfOuQkAnm",
        "colab_type": "text"
      },
      "source": [
        "Write a Python program to find all adverbs and their positions in a given sentence (do\n",
        "this exercise for English adverbs and French adverbs)"
      ]
    },
    {
      "cell_type": "code",
      "metadata": {
        "id": "n2MMxP6skCzZ",
        "colab_type": "code",
        "colab": {
          "base_uri": "https://localhost:8080/",
          "height": 70
        },
        "outputId": "ec5bfb45-533e-4941-bb30-5ff95f4ae60d"
      },
      "source": [
        "import re\n",
        "def adverb_finder():\n",
        "  exp = {\"E\":r\"\\w+ly\",\"F\":r\"\\w+ment\"}\n",
        "  i18n = \"X\"\n",
        "  while i18n not in \"EF\":\n",
        "    i18n=input(\"Which Language? [E]nglish, [F]rench: \").upper()\n",
        "  user_text=input(\"Provide the text: \")\n",
        "  for m in re.finditer(exp[i18n], user_text):\n",
        "      print('%d -> %d: %s' % (m.start(), m.end(), m.group(0)))\n",
        "adverb_finder()"
      ],
      "execution_count": 55,
      "outputs": [
        {
          "output_type": "stream",
          "text": [
            "Which Language? [E]nglish, [F]rench: F\n",
            "Provide the text: Honetement\n",
            "0 -> 10: Honetement\n"
          ],
          "name": "stdout"
        }
      ]
    },
    {
      "cell_type": "markdown",
      "metadata": {
        "id": "n0fvUB_cnGW0",
        "colab_type": "text"
      },
      "source": [
        "write a Python program to find all Dates in a text (Both French Format and English\n",
        "Format )"
      ]
    },
    {
      "cell_type": "code",
      "metadata": {
        "id": "TejxaJ1WoAG8",
        "colab_type": "code",
        "colab": {
          "base_uri": "https://localhost:8080/",
          "height": 52
        },
        "outputId": "10385821-9ea9-46b5-86ca-4118db8b2286"
      },
      "source": [
        "def match_all_dates():\n",
        "  reg_ex=r\"\\b((0?[13578]|10|12)(-|\\/)(([1-9])|(0[1-9])|([12])([0-9]?)|(3[01]?))(-|\\/)((19)([2-9])(\\d{1})|(20)([01])(\\d{1})|([8901])(\\d{1}))|(0?[2469]|11)(-|\\/)(([1-9])|(0[1-9])|([12])([0-9]?)|(3[0]?))(-|\\/)((19)([2-9])(\\d{1})|(20)([01])(\\d{1})|([8901])(\\d{1})))\\b\"\n",
        "  user_text=input(\"Provide the Text with dates: \")\n",
        "  return [s.group(0) for s in re.finditer(reg_ex,user_text)]\n",
        "match_all_dates()"
      ],
      "execution_count": 72,
      "outputs": [
        {
          "output_type": "stream",
          "text": [
            "Provide the Text with dates: This will be some random text that we don't want to match! 1-2-20 03 don't want any false/positives a 01/02/2003 2/3/04\n"
          ],
          "name": "stdout"
        },
        {
          "output_type": "execute_result",
          "data": {
            "text/plain": [
              "['01/02/2003', '2/3/04']"
            ]
          },
          "metadata": {
            "tags": []
          },
          "execution_count": 72
        }
      ]
    }
  ]
}